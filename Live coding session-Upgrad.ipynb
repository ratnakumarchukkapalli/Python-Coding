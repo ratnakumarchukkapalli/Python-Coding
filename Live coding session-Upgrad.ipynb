{
 "cells": [
  {
   "cell_type": "markdown",
   "id": "7dae844f",
   "metadata": {},
   "source": [
    "### Rule\n",
    "1. If each row is having same items repeated for the columns, then you just need 1 loop\n",
    "2. If the items in each row changes with change in column then you need 2 loops"
   ]
  },
  {
   "cell_type": "code",
   "execution_count": 5,
   "id": "960fd544",
   "metadata": {},
   "outputs": [
    {
     "name": "stdout",
     "output_type": "stream",
     "text": [
      "* * * * * \n",
      "* * * * * \n",
      "* * * * * \n",
      "* * * * * \n",
      "* * * * * \n"
     ]
    }
   ],
   "source": [
    "n=5\n",
    "for i in range(n):\n",
    "    print('* '*n)"
   ]
  },
  {
   "cell_type": "code",
   "execution_count": 10,
   "id": "54f4d835",
   "metadata": {},
   "outputs": [
    {
     "name": "stdout",
     "output_type": "stream",
     "text": [
      "3 3 3 \n",
      "3 3 3 \n",
      "3 3 3 \n"
     ]
    }
   ],
   "source": [
    "n=3\n",
    "for i in range(3):\n",
    "    print((str(n)+' ')*n)"
   ]
  },
  {
   "cell_type": "code",
   "execution_count": 13,
   "id": "3f6ed1cb",
   "metadata": {},
   "outputs": [
    {
     "name": "stdout",
     "output_type": "stream",
     "text": [
      "1 1 1 1 1 \n",
      "2 2 2 2 2 \n",
      "3 3 3 3 3 \n",
      "4 4 4 4 4 \n",
      "5 5 5 5 5 \n"
     ]
    }
   ],
   "source": [
    "n=5\n",
    "for i in range(n):\n",
    "    print((str(i+1)+' ')*n)"
   ]
  },
  {
   "cell_type": "code",
   "execution_count": 17,
   "id": "813c59ef",
   "metadata": {},
   "outputs": [
    {
     "name": "stdout",
     "output_type": "stream",
     "text": [
      "A \n",
      "B B \n",
      "C C C \n",
      "D D D D \n"
     ]
    }
   ],
   "source": [
    "n=4\n",
    "for i in range(n):\n",
    "    print((chr(65+i)+\" \")*(i+1))"
   ]
  },
  {
   "cell_type": "code",
   "execution_count": 54,
   "id": "aae82f7c",
   "metadata": {},
   "outputs": [
    {
     "data": {
      "text/plain": [
       "'C'"
      ]
     },
     "execution_count": 54,
     "metadata": {},
     "output_type": "execute_result"
    }
   ],
   "source": [
    "chr(67)"
   ]
  },
  {
   "cell_type": "code",
   "execution_count": 20,
   "id": "5bfdb5fc",
   "metadata": {},
   "outputs": [
    {
     "name": "stdout",
     "output_type": "stream",
     "text": [
      "* * * * * \n",
      "* * * * \n",
      "* * * \n",
      "* * \n",
      "* \n"
     ]
    }
   ],
   "source": [
    "n=5\n",
    "for i in range(n):\n",
    "    print('* '* (n-i))"
   ]
  },
  {
   "cell_type": "code",
   "execution_count": 52,
   "id": "2940125f",
   "metadata": {},
   "outputs": [
    {
     "name": "stdout",
     "output_type": "stream",
     "text": [
      "1 2 3 4 5 \n",
      "1 2 3 4 \n",
      "1 2 3 \n",
      "1 2 \n",
      "1 \n"
     ]
    }
   ],
   "source": [
    "# 2. If the items in each row changes with change in column then you need 2 loops\n",
    "n=5\n",
    "\n",
    "for row in range(n):\n",
    "    for col in range(n-row):\n",
    "        print(col+1,end=\" \")\n",
    "    print()"
   ]
  },
  {
   "cell_type": "code",
   "execution_count": 53,
   "id": "03bd8460",
   "metadata": {},
   "outputs": [
    {
     "name": "stdout",
     "output_type": "stream",
     "text": [
      "    1 \n",
      "   2 2 \n",
      "  3 3 3 \n",
      " 4 4 4 4 \n",
      "5 5 5 5 5 \n"
     ]
    }
   ],
   "source": [
    "n=5\n",
    " \n",
    "for i in range(n):\n",
    "    print(\" \"*(n-i-1)+ (str(i+1)+ \" \")*(i+1))"
   ]
  },
  {
   "cell_type": "code",
   "execution_count": 56,
   "id": "4f5b1f29",
   "metadata": {},
   "outputs": [
    {
     "name": "stdout",
     "output_type": "stream",
     "text": [
      "     E     E D    E D C   E D C B  E D C B A "
     ]
    }
   ],
   "source": [
    "n=5\n",
    "for i in range(n):\n",
    "    print(\" \"*(n-i-1),end=' ')\n",
    "    for j in range(i+1):\n",
    "        print(chr(64+n-j),end=\" \")\n",
    "    print()"
   ]
  },
  {
   "cell_type": "code",
   "execution_count": 57,
   "id": "35f7b9c3",
   "metadata": {},
   "outputs": [
    {
     "name": "stdout",
     "output_type": "stream",
     "text": [
      "     1 \n",
      "    1 2 \n",
      "   1 2 3 \n",
      "  1 2 3 4 \n",
      " 1 2 3 4 5 \n"
     ]
    }
   ],
   "source": [
    "n=5\n",
    "for i in range(n):\n",
    "    print(\" \"*(n-i-1),end=' ')\n",
    "    for j in range(i+1):\n",
    "        print(j+1,end=' ')\n",
    "    print()"
   ]
  },
  {
   "cell_type": "code",
   "execution_count": 64,
   "id": "6d232084",
   "metadata": {},
   "outputs": [
    {
     "name": "stdout",
     "output_type": "stream",
     "text": [
      "A \n",
      "A B \n",
      "A B C \n",
      "A B C D \n",
      "A B C D E \n",
      "A B C D \n",
      "A B C \n",
      "A B \n",
      "A \n"
     ]
    }
   ],
   "source": [
    "n=5\n",
    "k=n+(n-1)\n",
    "for i in range(k):\n",
    "    if i<n:\n",
    "        for j in range(i+1):\n",
    "            print(chr(65+j),end=\" \")\n",
    "    else:\n",
    "        for j in range(k-i):\n",
    "            print(chr(65+j),end=\" \")\n",
    "    print()"
   ]
  },
  {
   "cell_type": "code",
   "execution_count": null,
   "id": "90e0b928",
   "metadata": {},
   "outputs": [],
   "source": []
  }
 ],
 "metadata": {
  "kernelspec": {
   "display_name": "Python 3",
   "language": "python",
   "name": "python3"
  },
  "language_info": {
   "codemirror_mode": {
    "name": "ipython",
    "version": 3
   },
   "file_extension": ".py",
   "mimetype": "text/x-python",
   "name": "python",
   "nbconvert_exporter": "python",
   "pygments_lexer": "ipython3",
   "version": "3.8.8"
  }
 },
 "nbformat": 4,
 "nbformat_minor": 5
}
